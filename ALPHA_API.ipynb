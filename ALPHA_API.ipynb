{
 "cells": [
  {
   "cell_type": "markdown",
   "id": "d61f5d8a",
   "metadata": {},
   "source": [
    "## Alpha vantage API from alpha vantage"
   ]
  },
  {
   "cell_type": "code",
   "execution_count": 5,
   "id": "73045051",
   "metadata": {},
   "outputs": [],
   "source": [
    "from alpha_vantage.timeseries import TimeSeries"
   ]
  },
  {
   "cell_type": "code",
   "execution_count": 6,
   "id": "f4952264",
   "metadata": {},
   "outputs": [],
   "source": [
    "api_key = \"H456ZLCOCHH7CH10\""
   ]
  },
  {
   "cell_type": "code",
   "execution_count": 7,
   "id": "08398488",
   "metadata": {},
   "outputs": [
    {
     "data": {
      "text/plain": [
       "<alpha_vantage.timeseries.TimeSeries at 0x13b2f0015d0>"
      ]
     },
     "execution_count": 7,
     "metadata": {},
     "output_type": "execute_result"
    }
   ],
   "source": [
    "ts = TimeSeries(key=api_key, output_format=\"pandas\")\n",
    "ts"
   ]
  },
  {
   "cell_type": "code",
   "execution_count": 8,
   "id": "186b9533",
   "metadata": {},
   "outputs": [
    {
     "data": {
      "text/plain": [
       "(            1. open  2. high    3. low  4. close   5. volume\n",
       " date                                                        \n",
       " 2024-04-05  169.590  170.390  168.9500    169.58  41975776.0\n",
       " 2024-04-04  170.290  171.920  168.8200    168.82  53355055.0\n",
       " 2024-04-03  168.790  170.680  168.5800    169.65  45571129.0\n",
       " 2024-04-02  169.080  169.340  168.2302    168.84  49013991.0\n",
       " 2024-04-01  171.190  171.250  169.4750    170.03  43772506.0\n",
       " ...             ...      ...       ...       ...         ...\n",
       " 2023-11-16  189.570  190.960  188.6500    189.71  54412915.0\n",
       " 2023-11-15  187.845  189.500  187.7800    188.01  53790499.0\n",
       " 2023-11-14  187.700  188.110  186.3000    187.44  60108378.0\n",
       " 2023-11-13  185.820  186.030  184.2100    184.80  43627519.0\n",
       " 2023-11-10  183.970  186.565  183.5300    186.40  66177922.0\n",
       " \n",
       " [100 rows x 5 columns],\n",
       " {'1. Information': 'Daily Prices (open, high, low, close) and Volumes',\n",
       "  '2. Symbol': 'AAPL',\n",
       "  '3. Last Refreshed': '2024-04-05',\n",
       "  '4. Output Size': 'Compact',\n",
       "  '5. Time Zone': 'US/Eastern'})"
      ]
     },
     "execution_count": 8,
     "metadata": {},
     "output_type": "execute_result"
    }
   ],
   "source": [
    "data =ts.get_daily('AAPL')\n",
    "data"
   ]
  },
  {
   "cell_type": "code",
   "execution_count": 9,
   "id": "03d76b34",
   "metadata": {},
   "outputs": [
    {
     "data": {
      "text/html": [
       "<div>\n",
       "<style scoped>\n",
       "    .dataframe tbody tr th:only-of-type {\n",
       "        vertical-align: middle;\n",
       "    }\n",
       "\n",
       "    .dataframe tbody tr th {\n",
       "        vertical-align: top;\n",
       "    }\n",
       "\n",
       "    .dataframe thead th {\n",
       "        text-align: right;\n",
       "    }\n",
       "</style>\n",
       "<table border=\"1\" class=\"dataframe\">\n",
       "  <thead>\n",
       "    <tr style=\"text-align: right;\">\n",
       "      <th></th>\n",
       "      <th>1. open</th>\n",
       "      <th>2. high</th>\n",
       "      <th>3. low</th>\n",
       "      <th>4. close</th>\n",
       "      <th>5. volume</th>\n",
       "    </tr>\n",
       "    <tr>\n",
       "      <th>date</th>\n",
       "      <th></th>\n",
       "      <th></th>\n",
       "      <th></th>\n",
       "      <th></th>\n",
       "      <th></th>\n",
       "    </tr>\n",
       "  </thead>\n",
       "  <tbody>\n",
       "    <tr>\n",
       "      <th>2024-04-05</th>\n",
       "      <td>169.590</td>\n",
       "      <td>170.390</td>\n",
       "      <td>168.9500</td>\n",
       "      <td>169.58</td>\n",
       "      <td>41975776.0</td>\n",
       "    </tr>\n",
       "    <tr>\n",
       "      <th>2024-04-04</th>\n",
       "      <td>170.290</td>\n",
       "      <td>171.920</td>\n",
       "      <td>168.8200</td>\n",
       "      <td>168.82</td>\n",
       "      <td>53355055.0</td>\n",
       "    </tr>\n",
       "    <tr>\n",
       "      <th>2024-04-03</th>\n",
       "      <td>168.790</td>\n",
       "      <td>170.680</td>\n",
       "      <td>168.5800</td>\n",
       "      <td>169.65</td>\n",
       "      <td>45571129.0</td>\n",
       "    </tr>\n",
       "    <tr>\n",
       "      <th>2024-04-02</th>\n",
       "      <td>169.080</td>\n",
       "      <td>169.340</td>\n",
       "      <td>168.2302</td>\n",
       "      <td>168.84</td>\n",
       "      <td>49013991.0</td>\n",
       "    </tr>\n",
       "    <tr>\n",
       "      <th>2024-04-01</th>\n",
       "      <td>171.190</td>\n",
       "      <td>171.250</td>\n",
       "      <td>169.4750</td>\n",
       "      <td>170.03</td>\n",
       "      <td>43772506.0</td>\n",
       "    </tr>\n",
       "    <tr>\n",
       "      <th>...</th>\n",
       "      <td>...</td>\n",
       "      <td>...</td>\n",
       "      <td>...</td>\n",
       "      <td>...</td>\n",
       "      <td>...</td>\n",
       "    </tr>\n",
       "    <tr>\n",
       "      <th>2023-11-16</th>\n",
       "      <td>189.570</td>\n",
       "      <td>190.960</td>\n",
       "      <td>188.6500</td>\n",
       "      <td>189.71</td>\n",
       "      <td>54412915.0</td>\n",
       "    </tr>\n",
       "    <tr>\n",
       "      <th>2023-11-15</th>\n",
       "      <td>187.845</td>\n",
       "      <td>189.500</td>\n",
       "      <td>187.7800</td>\n",
       "      <td>188.01</td>\n",
       "      <td>53790499.0</td>\n",
       "    </tr>\n",
       "    <tr>\n",
       "      <th>2023-11-14</th>\n",
       "      <td>187.700</td>\n",
       "      <td>188.110</td>\n",
       "      <td>186.3000</td>\n",
       "      <td>187.44</td>\n",
       "      <td>60108378.0</td>\n",
       "    </tr>\n",
       "    <tr>\n",
       "      <th>2023-11-13</th>\n",
       "      <td>185.820</td>\n",
       "      <td>186.030</td>\n",
       "      <td>184.2100</td>\n",
       "      <td>184.80</td>\n",
       "      <td>43627519.0</td>\n",
       "    </tr>\n",
       "    <tr>\n",
       "      <th>2023-11-10</th>\n",
       "      <td>183.970</td>\n",
       "      <td>186.565</td>\n",
       "      <td>183.5300</td>\n",
       "      <td>186.40</td>\n",
       "      <td>66177922.0</td>\n",
       "    </tr>\n",
       "  </tbody>\n",
       "</table>\n",
       "<p>100 rows × 5 columns</p>\n",
       "</div>"
      ],
      "text/plain": [
       "            1. open  2. high    3. low  4. close   5. volume\n",
       "date                                                        \n",
       "2024-04-05  169.590  170.390  168.9500    169.58  41975776.0\n",
       "2024-04-04  170.290  171.920  168.8200    168.82  53355055.0\n",
       "2024-04-03  168.790  170.680  168.5800    169.65  45571129.0\n",
       "2024-04-02  169.080  169.340  168.2302    168.84  49013991.0\n",
       "2024-04-01  171.190  171.250  169.4750    170.03  43772506.0\n",
       "...             ...      ...       ...       ...         ...\n",
       "2023-11-16  189.570  190.960  188.6500    189.71  54412915.0\n",
       "2023-11-15  187.845  189.500  187.7800    188.01  53790499.0\n",
       "2023-11-14  187.700  188.110  186.3000    187.44  60108378.0\n",
       "2023-11-13  185.820  186.030  184.2100    184.80  43627519.0\n",
       "2023-11-10  183.970  186.565  183.5300    186.40  66177922.0\n",
       "\n",
       "[100 rows x 5 columns]"
      ]
     },
     "execution_count": 9,
     "metadata": {},
     "output_type": "execute_result"
    }
   ],
   "source": [
    "data[0]"
   ]
  },
  {
   "cell_type": "code",
   "execution_count": 10,
   "id": "6cd02b33",
   "metadata": {},
   "outputs": [],
   "source": [
    "data2 = data[0]"
   ]
  },
  {
   "cell_type": "code",
   "execution_count": 11,
   "id": "31b7caee",
   "metadata": {},
   "outputs": [
    {
     "data": {
      "text/plain": [
       "Index(['1. open', '2. high', '3. low', '4. close', '5. volume'], dtype='object')"
      ]
     },
     "execution_count": 11,
     "metadata": {},
     "output_type": "execute_result"
    }
   ],
   "source": [
    "data2.columns"
   ]
  },
  {
   "cell_type": "code",
   "execution_count": 13,
   "id": "3872656f",
   "metadata": {},
   "outputs": [
    {
     "data": {
      "text/html": [
       "<div>\n",
       "<style scoped>\n",
       "    .dataframe tbody tr th:only-of-type {\n",
       "        vertical-align: middle;\n",
       "    }\n",
       "\n",
       "    .dataframe tbody tr th {\n",
       "        vertical-align: top;\n",
       "    }\n",
       "\n",
       "    .dataframe thead th {\n",
       "        text-align: right;\n",
       "    }\n",
       "</style>\n",
       "<table border=\"1\" class=\"dataframe\">\n",
       "  <thead>\n",
       "    <tr style=\"text-align: right;\">\n",
       "      <th></th>\n",
       "      <th>4. close</th>\n",
       "    </tr>\n",
       "    <tr>\n",
       "      <th>date</th>\n",
       "      <th></th>\n",
       "    </tr>\n",
       "  </thead>\n",
       "  <tbody>\n",
       "    <tr>\n",
       "      <th>2024-04-05</th>\n",
       "      <td>169.58</td>\n",
       "    </tr>\n",
       "    <tr>\n",
       "      <th>2024-04-04</th>\n",
       "      <td>168.82</td>\n",
       "    </tr>\n",
       "    <tr>\n",
       "      <th>2024-04-03</th>\n",
       "      <td>169.65</td>\n",
       "    </tr>\n",
       "    <tr>\n",
       "      <th>2024-04-02</th>\n",
       "      <td>168.84</td>\n",
       "    </tr>\n",
       "    <tr>\n",
       "      <th>2024-04-01</th>\n",
       "      <td>170.03</td>\n",
       "    </tr>\n",
       "    <tr>\n",
       "      <th>...</th>\n",
       "      <td>...</td>\n",
       "    </tr>\n",
       "    <tr>\n",
       "      <th>2023-11-16</th>\n",
       "      <td>189.71</td>\n",
       "    </tr>\n",
       "    <tr>\n",
       "      <th>2023-11-15</th>\n",
       "      <td>188.01</td>\n",
       "    </tr>\n",
       "    <tr>\n",
       "      <th>2023-11-14</th>\n",
       "      <td>187.44</td>\n",
       "    </tr>\n",
       "    <tr>\n",
       "      <th>2023-11-13</th>\n",
       "      <td>184.80</td>\n",
       "    </tr>\n",
       "    <tr>\n",
       "      <th>2023-11-10</th>\n",
       "      <td>186.40</td>\n",
       "    </tr>\n",
       "  </tbody>\n",
       "</table>\n",
       "<p>100 rows × 1 columns</p>\n",
       "</div>"
      ],
      "text/plain": [
       "            4. close\n",
       "date                \n",
       "2024-04-05    169.58\n",
       "2024-04-04    168.82\n",
       "2024-04-03    169.65\n",
       "2024-04-02    168.84\n",
       "2024-04-01    170.03\n",
       "...              ...\n",
       "2023-11-16    189.71\n",
       "2023-11-15    188.01\n",
       "2023-11-14    187.44\n",
       "2023-11-13    184.80\n",
       "2023-11-10    186.40\n",
       "\n",
       "[100 rows x 1 columns]"
      ]
     },
     "execution_count": 13,
     "metadata": {},
     "output_type": "execute_result"
    }
   ],
   "source": [
    "data2['4. close'].to_frame()"
   ]
  },
  {
   "cell_type": "code",
   "execution_count": null,
   "id": "e32a1bf4",
   "metadata": {},
   "outputs": [],
   "source": []
  }
 ],
 "metadata": {
  "kernelspec": {
   "display_name": "Python 3 (ipykernel)",
   "language": "python",
   "name": "python3"
  },
  "language_info": {
   "codemirror_mode": {
    "name": "ipython",
    "version": 3
   },
   "file_extension": ".py",
   "mimetype": "text/x-python",
   "name": "python",
   "nbconvert_exporter": "python",
   "pygments_lexer": "ipython3",
   "version": "3.10.9"
  }
 },
 "nbformat": 4,
 "nbformat_minor": 5
}
