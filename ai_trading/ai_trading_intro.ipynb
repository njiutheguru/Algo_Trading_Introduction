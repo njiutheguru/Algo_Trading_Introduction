{
 "cells": [
  {
   "cell_type": "markdown",
   "id": "4f110596",
   "metadata": {},
   "source": [
    "# An Introduction to AI Trading/Quant Trading of the Stocks!!\n",
    "\n",
    "## Common and Preferred Stock\n",
    "*  preferred stock actually behaves more like a bond, so preferred stock prices may tend to be more stable relative to common stock of the same company. Usually when you see stock data and financial news, it’s referring to common stock."
   ]
  },
  {
   "cell_type": "markdown",
   "id": "236cbbc8",
   "metadata": {},
   "source": [
    "### Terminologies\n",
    "Stock: An asset that represents ownership in a company. A claim on part of a corportation's assets and earnings. There are two main types, common and preferred.\n",
    "\n",
    "Share: A single share represents partial ownership of a company relative to the total number of shares in existence.\n",
    "\n",
    "Common Stock: One main type of stock; entitles the owner to receive dividends and to vote at shareholder meetings.\n",
    "\n",
    "Preferred Stock: The other main type of stock; generally does not entail voting rights, but entitles the owner to a higher claim on the assets and earnings of a company.\n",
    "\n",
    "Dividend: A partial distribution of a company's profits to shareholders.\n",
    "\n",
    "Capital Gains: Profits that result from the sale of an asset at a price higher than the purchase price.\n",
    "\n",
    "Security: A tradable financial asset.\n",
    "\n",
    "Debt Security: Money that is owed and must be repaid, like government or corporate bonds, or certificates of deposit. Also called fixed-income securities.\n",
    "\n",
    "Derivative Security: A financial instrument whereby its value is derived from other assets.\n",
    "\n",
    "Equity: The value of an owned asset minus the amount of all debts on that asset.\n",
    "\n",
    "Equity Security: A security that represents fractional ownership in an entity, such as stock.\n",
    "\n",
    "Option Contract: A contract which gives the buyer the right, but not the obligation, to buy or sell an underlying asset at a specified price on or by a specified date\n",
    "\n",
    "Futures Contract: A contract that obligates the buyer to buy or the seller to sell an asset at a predetermined price at a specified time in the future"
   ]
  },
  {
   "cell_type": "markdown",
   "id": "f4cf04a0",
   "metadata": {},
   "source": [
    "### Tick Data\n",
    "Tick data is sometimes referred to as heterogeneous data, since it is not sampled at regular time intervals, whereas Minute-level or End-of-Day data is called homogeneous."
   ]
  },
  {
   "cell_type": "markdown",
   "id": "378d37b1",
   "metadata": {},
   "source": [
    "## Stocks Splits\n",
    "Although a stock split shouldn’t theoretically affect the market cap of a stock, in reality it does! There are some intriguing behavioral patterns that researchers have observed among traders. One seems to suggest that after a stock splits, and the price drops considerably, people seem to think it is going to go back up to the previous price (double or triple)! This creates an artificial demand for the stock, which in turn actually pushes up the price."
   ]
  },
  {
   "cell_type": "markdown",
   "id": "216c493f",
   "metadata": {},
   "source": [
    "* ## Technical Indicators\n",
    "* ## Missing Values"
   ]
  },
  {
   "cell_type": "code",
   "execution_count": null,
   "id": "88ab07e3",
   "metadata": {},
   "outputs": [],
   "source": []
  }
 ],
 "metadata": {
  "kernelspec": {
   "display_name": "Python 3 (ipykernel)",
   "language": "python",
   "name": "python3"
  },
  "language_info": {
   "codemirror_mode": {
    "name": "ipython",
    "version": 3
   },
   "file_extension": ".py",
   "mimetype": "text/x-python",
   "name": "python",
   "nbconvert_exporter": "python",
   "pygments_lexer": "ipython3",
   "version": "3.10.9"
  }
 },
 "nbformat": 4,
 "nbformat_minor": 5
}
